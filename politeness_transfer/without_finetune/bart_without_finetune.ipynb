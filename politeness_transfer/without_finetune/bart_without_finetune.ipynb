{
 "cells": [
  {
   "cell_type": "code",
   "execution_count": null,
   "id": "b825788b",
   "metadata": {},
   "outputs": [],
   "source": [
    "# base_path = '../../tagger_data/as_it_is/'\n",
    "base_path = '../../gen_data/as_it_is/'\n",
    "\n",
    "with open(base_path + 'train.src') as f:\n",
    "    train_src = f.readlines()\n",
    "    print(len(train_src))\n",
    "with open(base_path + 'train.trg') as f:\n",
    "    train_trg = f.readlines()\n",
    "    print(len(train_trg))\n",
    "with open(base_path + 'dev.src') as f:\n",
    "    dev_src = f.readlines()\n",
    "    print(len(dev_src))\n",
    "with open(base_path + 'dev.trg') as f:\n",
    "    dev_trg = f.readlines()\n",
    "    print(len(dev_trg))\n",
    "with open(base_path + 'test.src') as f:\n",
    "    test_src = f.readlines()\n",
    "    print(len(test_src))\n",
    "with open(base_path + 'test.trg') as f:\n",
    "    test_trg = f.readlines()\n",
    "    print(len(test_trg))"
   ]
  },
  {
   "cell_type": "code",
   "execution_count": null,
   "id": "d708e149",
   "metadata": {},
   "outputs": [],
   "source": [
    "import pandas as pd\n",
    "\n",
    "train_df = pd.DataFrame(\n",
    "    {'src': train_src,\n",
    "     'trg': train_trg\n",
    "    })\n",
    "train_df.head()\n",
    "\n",
    "dev_df = pd.DataFrame(\n",
    "    {'src': dev_src,\n",
    "     'trg': dev_trg\n",
    "    })\n",
    "dev_df.head()\n",
    "\n",
    "test_df = pd.DataFrame(\n",
    "    {'src': test_src,\n",
    "     'trg': test_trg\n",
    "    })\n",
    "test_df.head()"
   ]
  },
  {
   "cell_type": "code",
   "execution_count": null,
   "id": "c78f9768-1946-4ffb-883d-d77e9500a2f9",
   "metadata": {},
   "outputs": [],
   "source": [
    "print(train_df['src'][1])\n",
    "train_df.src = train_df.src.str.replace('\\n', '')\n",
    "dev_df.src = dev_df.src.str.replace('\\n', '')\n",
    "test_df.src = test_df.src.str.replace('\\n', '')\n",
    "print(train_df['src'][1])\n",
    "\n",
    "print(train_df['trg'][1])\n",
    "train_df.trg = train_df.trg.str.replace('\\n', '')\n",
    "dev_df.trg = dev_df.trg.str.replace('\\n', '')\n",
    "test_df.trg = test_df.trg.str.replace('\\n', '')\n",
    "print(train_df['trg'][1])\n",
    "\n",
    "test_df.head()"
   ]
  },
  {
   "cell_type": "code",
   "execution_count": null,
   "id": "1d04cc0b-bd36-4cbf-8ec0-61c0d58c636d",
   "metadata": {},
   "outputs": [],
   "source": [
    "# train_df.src = train_df.src.str.replace('\\[P_[a-zA-Z0-9_]+\\]', '<mask>')\n",
    "# dev_df.src = dev_df.src.str.replace('\\[P_[a-zA-Z0-9_]+\\]', '<mask>')\n",
    "# test_df.src = test_df.src.str.replace('\\[P_[a-zA-Z0-9_]+\\]', '<mask>')\n",
    "\n",
    "# train_df.trg = train_df.trg.str.replace('\\[P_[a-zA-Z0-9_]+\\]', '<mask>')\n",
    "# dev_df.trg = dev_df.trg.str.replace('\\[P_[a-zA-Z0-9_]+\\]', '<mask>')\n",
    "# test_df.trg = test_df.trg.str.replace('\\[P_[a-zA-Z0-9_]+\\]', '<mask>')\n",
    "\n",
    "train_df.src = train_df.src.str.replace('\\[P_[a-zA-Z0-9_]+\\]', '')\n",
    "dev_df.src = dev_df.src.str.replace('\\[P_[a-zA-Z0-9_]+\\]', '')\n",
    "test_df.src = test_df.src.str.replace('\\[P_[a-zA-Z0-9_]+\\]', '')\n",
    "\n",
    "train_df.src = train_df.src.str.replace('  ', ' ')\n",
    "dev_df.src = dev_df.src.str.replace('  ', ' ')\n",
    "test_df.src = test_df.src.str.replace('  ', ' ')\n",
    "\n",
    "# train_df.trg = train_df.trg.str.replace('\\[P_[a-zA-Z0-9_]+\\]', '')\n",
    "# dev_df.trg = dev_df.trg.str.replace('\\[P_[a-zA-Z0-9_]+\\]', '')\n",
    "# test_df.trg = test_df.trg.str.replace('\\[P_[a-zA-Z0-9_]+\\]', '')\n",
    "\n",
    "# train_df['src'][1]\n",
    "test_df.head()"
   ]
  },
  {
   "cell_type": "code",
   "execution_count": null,
   "id": "1b0245f7-35a1-45f2-8ee6-fb12b5bb087c",
   "metadata": {},
   "outputs": [],
   "source": [
    "import torch\n",
    "device = torch.device('cuda' if torch.cuda.is_available() else 'cpu')\n",
    "print('Using device:', device)"
   ]
  },
  {
   "cell_type": "code",
   "execution_count": null,
   "id": "6593855e",
   "metadata": {},
   "outputs": [],
   "source": [
    "model_name = 'facebook/bart-base'"
   ]
  },
  {
   "cell_type": "code",
   "execution_count": null,
   "id": "430f9670-9e09-46f2-b83a-56a430d3ef03",
   "metadata": {},
   "outputs": [],
   "source": [
    "from transformers import BartTokenizer\n",
    "tokenizer = BartTokenizer.from_pretrained(model_name)"
   ]
  },
  {
   "cell_type": "code",
   "execution_count": null,
   "id": "15ae6097",
   "metadata": {},
   "outputs": [],
   "source": [
    "from transformers import BartForConditionalGeneration, Seq2SeqTrainingArguments, Seq2SeqTrainer\n",
    "model = BartForConditionalGeneration.from_pretrained(model_name).to(device)"
   ]
  },
  {
   "cell_type": "code",
   "execution_count": null,
   "id": "b842abe6-ba83-4d39-854a-d2e453d99451",
   "metadata": {},
   "outputs": [],
   "source": [
    "def gen(src):\n",
    "    src_tknz = tokenizer(src, truncation=True, padding=True, max_length=128, return_tensors='pt').to(device)\n",
    "    generated_ids = model.generate(src_tknz[\"input_ids\"].cuda(), max_length=128)\n",
    "\n",
    "    return tokenizer.batch_decode(generated_ids, skip_special_tokens=True)[0]"
   ]
  },
  {
   "cell_type": "code",
   "execution_count": null,
   "id": "5080dd28",
   "metadata": {},
   "outputs": [],
   "source": [
    "for idx in range(50):\n",
    "    print('src:', test_df['src'].values.tolist()[idx])\n",
    "    print('trg:', test_df['trg'].values.tolist()[idx])\n",
    "    \n",
    "    print('pred:', gen(test_df['src'].values.tolist()[idx]))\n",
    "    print('\\n')"
   ]
  },
  {
   "cell_type": "code",
   "execution_count": null,
   "id": "f0fabf0b-bbd4-4532-884f-c5c102fe9985",
   "metadata": {},
   "outputs": [],
   "source": [
    "test_ips = ['send me the text files.', 'look into this issue.', 'good bye.', 'okay.', 'do it.', 'yes, go ahead and remove it.', 'jon please use this resignation letter in lieu of the one sent on friday']\n",
    "for test_ip in test_ips:\n",
    "    print('src:', test_ip)\n",
    "    print('pred:',  gen(test_ip))\n",
    "    print('\\n')"
   ]
  },
  {
   "cell_type": "code",
   "execution_count": null,
   "id": "63753b15-35e6-4f33-9ae6-ee2d3a7f402f",
   "metadata": {},
   "outputs": [],
   "source": [
    "import pickle"
   ]
  },
  {
   "cell_type": "code",
   "execution_count": null,
   "id": "0e78f7e0-78e8-4dee-8a1a-17291b8b85ad",
   "metadata": {},
   "outputs": [],
   "source": [
    "pred_wofinetune = []\n",
    "for idx in range(len(test_df['src'].values.tolist())):\n",
    "    pred_wofinetune.append((gen(test_df['src'].values.tolist()[idx])))\n",
    "\n",
    "with open('pred_wofinetune_lists.pkl', 'wb') as f:\n",
    "    pickle.dump(pred_wofinetune, f)"
   ]
  },
  {
   "cell_type": "code",
   "execution_count": null,
   "id": "77e3f474-763b-4fc3-9bd3-c408fc19a55e",
   "metadata": {},
   "outputs": [],
   "source": []
  }
 ],
 "metadata": {
  "kernelspec": {
   "display_name": "Python 3 (ipykernel)",
   "language": "python",
   "name": "python3"
  },
  "language_info": {
   "codemirror_mode": {
    "name": "ipython",
    "version": 3
   },
   "file_extension": ".py",
   "mimetype": "text/x-python",
   "name": "python",
   "nbconvert_exporter": "python",
   "pygments_lexer": "ipython3",
   "version": "3.10.6"
  }
 },
 "nbformat": 4,
 "nbformat_minor": 5
}
