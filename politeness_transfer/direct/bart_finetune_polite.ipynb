{
 "cells": [
  {
   "cell_type": "code",
   "execution_count": null,
   "id": "b825788b",
   "metadata": {},
   "outputs": [],
   "source": [
    "# base_path = '../../tagger_data/as_it_is/'\n",
    "base_path = '../../gen_data/as_it_is/'\n",
    "\n",
    "with open(base_path + 'train.src') as f:\n",
    "    train_src = f.readlines()\n",
    "    print(len(train_src))\n",
    "with open(base_path + 'train.trg') as f:\n",
    "    train_trg = f.readlines()\n",
    "    print(len(train_trg))\n",
    "with open(base_path + 'dev.src') as f:\n",
    "    dev_src = f.readlines()\n",
    "    print(len(dev_src))\n",
    "with open(base_path + 'dev.trg') as f:\n",
    "    dev_trg = f.readlines()\n",
    "    print(len(dev_trg))\n",
    "with open(base_path + 'test.src') as f:\n",
    "    test_src = f.readlines()\n",
    "    print(len(test_src))\n",
    "with open(base_path + 'test.trg') as f:\n",
    "    test_trg = f.readlines()\n",
    "    print(len(test_trg))"
   ]
  },
  {
   "cell_type": "code",
   "execution_count": null,
   "id": "d708e149",
   "metadata": {},
   "outputs": [],
   "source": [
    "import pandas as pd\n",
    "\n",
    "train_df = pd.DataFrame(\n",
    "    {'src': train_src,\n",
    "     'trg': train_trg\n",
    "    })\n",
    "train_df.head()\n",
    "\n",
    "dev_df = pd.DataFrame(\n",
    "    {'src': dev_src,\n",
    "     'trg': dev_trg\n",
    "    })\n",
    "dev_df.head()\n",
    "\n",
    "test_df = pd.DataFrame(\n",
    "    {'src': test_src,\n",
    "     'trg': test_trg\n",
    "    })\n",
    "test_df.head()"
   ]
  },
  {
   "cell_type": "code",
   "execution_count": null,
   "id": "c78f9768-1946-4ffb-883d-d77e9500a2f9",
   "metadata": {},
   "outputs": [],
   "source": [
    "print(train_df['src'][1])\n",
    "train_df.src = train_df.src.str.replace('\\n', '')\n",
    "dev_df.src = dev_df.src.str.replace('\\n', '')\n",
    "test_df.src = test_df.src.str.replace('\\n', '')\n",
    "print(train_df['src'][1])\n",
    "\n",
    "print(train_df['trg'][1])\n",
    "train_df.trg = train_df.trg.str.replace('\\n', '')\n",
    "dev_df.trg = dev_df.trg.str.replace('\\n', '')\n",
    "test_df.trg = test_df.trg.str.replace('\\n', '')\n",
    "print(train_df['trg'][1])\n",
    "\n",
    "test_df.head()"
   ]
  },
  {
   "cell_type": "code",
   "execution_count": null,
   "id": "1d04cc0b-bd36-4cbf-8ec0-61c0d58c636d",
   "metadata": {},
   "outputs": [],
   "source": [
    "# train_df.src = train_df.src.str.replace('\\[P_[a-zA-Z0-9_]+\\]', '<mask>')\n",
    "# dev_df.src = dev_df.src.str.replace('\\[P_[a-zA-Z0-9_]+\\]', '<mask>')\n",
    "# test_df.src = test_df.src.str.replace('\\[P_[a-zA-Z0-9_]+\\]', '<mask>')\n",
    "\n",
    "# train_df.trg = train_df.trg.str.replace('\\[P_[a-zA-Z0-9_]+\\]', '<mask>')\n",
    "# dev_df.trg = dev_df.trg.str.replace('\\[P_[a-zA-Z0-9_]+\\]', '<mask>')\n",
    "# test_df.trg = test_df.trg.str.replace('\\[P_[a-zA-Z0-9_]+\\]', '<mask>')\n",
    "\n",
    "train_df.src = train_df.src.str.replace('\\[P_[a-zA-Z0-9_]+\\]', '')\n",
    "dev_df.src = dev_df.src.str.replace('\\[P_[a-zA-Z0-9_]+\\]', '')\n",
    "test_df.src = test_df.src.str.replace('\\[P_[a-zA-Z0-9_]+\\]', '')\n",
    "\n",
    "train_df.src = train_df.src.str.replace('  ', ' ')\n",
    "dev_df.src = dev_df.src.str.replace('  ', ' ')\n",
    "test_df.src = test_df.src.str.replace('  ', ' ')\n",
    "\n",
    "# train_df.trg = train_df.trg.str.replace('\\[P_[a-zA-Z0-9_]+\\]', '')\n",
    "# dev_df.trg = dev_df.trg.str.replace('\\[P_[a-zA-Z0-9_]+\\]', '')\n",
    "# test_df.trg = test_df.trg.str.replace('\\[P_[a-zA-Z0-9_]+\\]', '')\n",
    "\n",
    "# train_df['src'][1]\n",
    "test_df.head()"
   ]
  },
  {
   "cell_type": "code",
   "execution_count": null,
   "id": "8eee75e9-6593-4fec-88ab-73a0910e827e",
   "metadata": {},
   "outputs": [],
   "source": [
    "# import json\n",
    "\n",
    "# def df_to_dict_file(df, file):\n",
    "#     inp = df['src'].values.tolist()\n",
    "#     oup = df['trg'].values.tolist()\n",
    "#     dict_list = []\n",
    "#     for idx in range(len(df.index)):\n",
    "#         dict_list.append({'in':inp[idx], 'out':oup[idx]})\n",
    "#     with open(file, \"w\") as outfile:\n",
    "#         json.dump({'data':dict_list}, outfile)\n",
    "\n",
    "# df_to_dict_file(train_df, 'json_data/train.json')\n",
    "# df_to_dict_file(dev_df, 'json_data/dev.json')\n",
    "# df_to_dict_file(test_df, 'json_data/test.json')"
   ]
  },
  {
   "cell_type": "code",
   "execution_count": null,
   "id": "6593855e",
   "metadata": {},
   "outputs": [],
   "source": [
    "model_name = 'facebook/bart-base/checkpoint-159390'"
   ]
  },
  {
   "cell_type": "code",
   "execution_count": null,
   "id": "91f10e43",
   "metadata": {},
   "outputs": [],
   "source": [
    "from transformers import BartTokenizer \n",
    "import torch\n",
    "\n",
    "\n",
    "tokenizer = BartTokenizer.from_pretrained(model_name)\n",
    "\n",
    "train_src_encodings = tokenizer(train_df['src'].values.tolist(), truncation=True, padding=True, max_length=128)\n",
    "train_trg_encodings = tokenizer(train_df['trg'].values.tolist(), truncation=True, padding=True, max_length=128)\n",
    "\n",
    "dev_src_encodings = tokenizer(dev_df['src'].values.tolist(), truncation=True, padding=True, max_length=128)\n",
    "dev_trg_encodings = tokenizer(dev_df['trg'].values.tolist(), truncation=True, padding=True, max_length=128)"
   ]
  },
  {
   "cell_type": "code",
   "execution_count": null,
   "id": "c8ce531c-d740-4a6c-aa06-8432304d2c74",
   "metadata": {},
   "outputs": [],
   "source": [
    "for key, value in train_src_encodings.items():\n",
    "    print(key, len(value))"
   ]
  },
  {
   "cell_type": "code",
   "execution_count": null,
   "id": "cbead599",
   "metadata": {},
   "outputs": [],
   "source": [
    "class CreateDataset(torch.utils.data.Dataset):\n",
    "    def __init__(self, encodings, labels):\n",
    "        self.encodings = encodings\n",
    "        self.labels = labels\n",
    "\n",
    "    def __getitem__(self, idx):\n",
    "        item = {key: torch.tensor(val[idx]) for key, val in self.encodings.items()}\n",
    "        item['labels'] = torch.tensor(self.labels['input_ids'][idx])\n",
    "        # item['decoder_input_ids'] = torch.tensor(self.labels['input_ids'][idx])\n",
    "        # item['decoder_attention_mask'] = torch.tensor(self.labels['attention_mask'][idx])\n",
    "        return item\n",
    "\n",
    "    def __len__(self):\n",
    "        return len(self.labels['input_ids'])"
   ]
  },
  {
   "cell_type": "code",
   "execution_count": null,
   "id": "1f712cb9",
   "metadata": {},
   "outputs": [],
   "source": [
    "train_dataset = CreateDataset(train_src_encodings, train_trg_encodings)\n",
    "dev_dataset = CreateDataset(dev_src_encodings, dev_trg_encodings)"
   ]
  },
  {
   "cell_type": "code",
   "execution_count": null,
   "id": "5534fde9-de63-4d52-ac78-4018722b1adc",
   "metadata": {},
   "outputs": [],
   "source": [
    "train_dataset[0]"
   ]
  },
  {
   "cell_type": "code",
   "execution_count": null,
   "id": "f00fb2fb",
   "metadata": {},
   "outputs": [],
   "source": [
    "# import datasets\n",
    "# metric = datasets.load_metric(\"rouge\")"
   ]
  },
  {
   "cell_type": "code",
   "execution_count": null,
   "id": "f0e8f290",
   "metadata": {},
   "outputs": [],
   "source": [
    "# def compute_metrics(eval_pred):\n",
    "#     predictions, labels = eval_pred\n",
    "#     decoded_preds = tokenizer.batch_decode(predictions, skip_special_tokens=True)\n",
    "#     # Replace -100 in the labels as we can't decode them.\n",
    "#     labels = np.where(labels != -100, labels, tokenizer.pad_token_id)\n",
    "#     decoded_labels = tokenizer.batch_decode(labels, skip_special_tokens=True)\n",
    "    \n",
    "#     # Rouge expects a newline after each sentence\n",
    "#     decoded_preds = [\"\\n\".join(nltk.sent_tokenize(pred.strip())) for pred in decoded_preds]\n",
    "#     decoded_labels = [\"\\n\".join(nltk.sent_tokenize(label.strip())) for label in decoded_labels]\n",
    "    \n",
    "#     result = metric.compute(predictions=decoded_preds, references=decoded_labels, use_stemmer=True)\n",
    "#     # Extract a few results\n",
    "#     result = {key: value.mid.fmeasure * 100 for key, value in result.items()}\n",
    "    \n",
    "#     # Add mean generated length\n",
    "#     prediction_lens = [np.count_nonzero(pred != tokenizer.pad_token_id) for pred in predictions]\n",
    "#     result[\"gen_len\"] = np.mean(prediction_lens)\n",
    "    \n",
    "#     return {k: round(v, 4) for k, v in result.items()}"
   ]
  },
  {
   "cell_type": "code",
   "execution_count": null,
   "id": "15ae6097",
   "metadata": {},
   "outputs": [],
   "source": [
    "from transformers import BartForConditionalGeneration, Seq2SeqTrainingArguments, Seq2SeqTrainer\n",
    "model = BartForConditionalGeneration.from_pretrained(model_name)\n",
    "\n",
    "batch_size = 8\n",
    "args = Seq2SeqTrainingArguments(\n",
    "    model_name,\n",
    "    evaluation_strategy = \"epoch\",\n",
    "    learning_rate=2e-5,\n",
    "    per_device_train_batch_size=batch_size,\n",
    "    per_device_eval_batch_size=batch_size,\n",
    "    weight_decay=0.01,\n",
    "    save_total_limit=1,\n",
    "    save_strategy = 'epoch',\n",
    "    load_best_model_at_end=True,\n",
    "    num_train_epochs=8,\n",
    "    predict_with_generate=True,\n",
    "    fp16=True\n",
    ")"
   ]
  },
  {
   "cell_type": "code",
   "execution_count": null,
   "id": "dffdeac9",
   "metadata": {},
   "outputs": [],
   "source": [
    "from transformers import DataCollatorForSeq2Seq\n",
    "data_collator = DataCollatorForSeq2Seq(tokenizer, model=model)"
   ]
  },
  {
   "cell_type": "code",
   "execution_count": null,
   "id": "e1d6eb49",
   "metadata": {},
   "outputs": [],
   "source": [
    "trainer = Seq2SeqTrainer(\n",
    "    model,\n",
    "    args,\n",
    "    train_dataset=train_dataset,\n",
    "    eval_dataset=dev_dataset,\n",
    "    data_collator=data_collator,\n",
    "    tokenizer=tokenizer\n",
    "    #compute_metrics=compute_metrics\n",
    ")"
   ]
  },
  {
   "cell_type": "code",
   "execution_count": null,
   "id": "41788bbe",
   "metadata": {
    "scrolled": true
   },
   "outputs": [],
   "source": [
    "#trainer.train()"
   ]
  },
  {
   "cell_type": "code",
   "execution_count": null,
   "id": "7a8c2c32",
   "metadata": {},
   "outputs": [],
   "source": [
    "#trainer.evaluate()"
   ]
  },
  {
   "cell_type": "code",
   "execution_count": null,
   "id": "b842abe6-ba83-4d39-854a-d2e453d99451",
   "metadata": {},
   "outputs": [],
   "source": [
    "def gen(src):\n",
    "    src_tknz = tokenizer(src, truncation=True, padding=True, max_length=128, return_tensors='pt')\n",
    "    generated_ids = model.generate(src_tknz[\"input_ids\"].cuda(), max_length=128)\n",
    "\n",
    "    return tokenizer.batch_decode(generated_ids, skip_special_tokens=True)[0]"
   ]
  },
  {
   "cell_type": "code",
   "execution_count": null,
   "id": "5080dd28",
   "metadata": {},
   "outputs": [],
   "source": [
    "for idx in range(50):\n",
    "    print('src:', test_df['src'].values.tolist()[idx])\n",
    "    print('trg:', test_df['trg'].values.tolist()[idx])\n",
    "    \n",
    "    print('pred:', gen(test_df['src'].values.tolist()[idx]))\n",
    "    print('\\n')"
   ]
  },
  {
   "cell_type": "code",
   "execution_count": null,
   "id": "f0fabf0b-bbd4-4532-884f-c5c102fe9985",
   "metadata": {},
   "outputs": [],
   "source": [
    "test_ips = ['send me the text files.', 'look into this issue.', 'good bye.', 'okay.', 'do it.', 'yes, go ahead and remove it.', 'jon please use this resignation letter in lieu of the one sent on friday']\n",
    "for test_ip in test_ips:\n",
    "    print('src:', test_ip)\n",
    "    print('pred:',  gen(test_ip))\n",
    "    print('\\n')"
   ]
  },
  {
   "cell_type": "code",
   "execution_count": null,
   "id": "63753b15-35e6-4f33-9ae6-ee2d3a7f402f",
   "metadata": {},
   "outputs": [],
   "source": [
    "import pickle"
   ]
  },
  {
   "cell_type": "code",
   "execution_count": null,
   "id": "c10d7274-b24f-4417-82bd-869137e143df",
   "metadata": {},
   "outputs": [],
   "source": [
    "with open('src_direct_lists.pkl', 'wb') as f:\n",
    "    pickle.dump(test_df['src'].values.tolist(), f)\n",
    "with open('trg_direct_lists.pkl', 'wb') as f:\n",
    "    pickle.dump(test_df['trg'].values.tolist(), f)"
   ]
  },
  {
   "cell_type": "code",
   "execution_count": null,
   "id": "0e78f7e0-78e8-4dee-8a1a-17291b8b85ad",
   "metadata": {},
   "outputs": [],
   "source": [
    "pred_direct = []\n",
    "for idx in range(len(test_df['src'].values.tolist())):\n",
    "    pred_direct.append((gen(test_df['src'].values.tolist()[idx])))\n",
    "\n",
    "with open('pred_direct_lists.pkl', 'wb') as f:\n",
    "    pickle.dump(pred_direct, f)"
   ]
  },
  {
   "cell_type": "code",
   "execution_count": null,
   "id": "94ab0ee9-571e-4526-a506-4c346f90790e",
   "metadata": {},
   "outputs": [],
   "source": [
    "def polite_res(r_file,w_file):\n",
    "    lines=None\n",
    "    # with open(r_file, 'r') as f:\n",
    "    #     lines = f.readlines()\n",
    "    #with open(w_file, 'w') as f:\n",
    "    with open(r_file+'.pkl', 'rb') as f:\n",
    "        resps = pickle.load(f)\n",
    "    polite_res = list()\n",
    "    for resp in resps:\n",
    "        #f.write(f\"{gen(line)}\\n\")\n",
    "        polite_res.append(gen(resp))\n",
    "    with open(w_file+'.pkl', 'wb') as f:\n",
    "        pickle.dump(polite_res,f)\n",
    "        # print(line)\n",
    "        # print(gen(line))\n",
    "        # print('\\n')"
   ]
  },
  {
   "cell_type": "code",
   "execution_count": null,
   "id": "77e3f474-763b-4fc3-9bd3-c408fc19a55e",
   "metadata": {},
   "outputs": [],
   "source": [
    "# res_path = '../../dialog/daily_dialog/responses/'\n",
    "# polite_res(res_path+'train_res', res_path+'train_polite_res_direct')\n",
    "# polite_res(res_path+'dev_res', res_path+'dev_polite_res_direct')\n",
    "# polite_res(res_path+'test_res', res_path+'test_polite_res_direct')"
   ]
  },
  {
   "cell_type": "code",
   "execution_count": null,
   "id": "df08c72e-2bc3-495f-8291-001311b63e4f",
   "metadata": {},
   "outputs": [],
   "source": [
    "polite_res('../../polite_multicls_classifier/P_0_test', 'P_0_test_polite_direct')"
   ]
  },
  {
   "cell_type": "code",
   "execution_count": null,
   "id": "6f12aa33-38ff-4959-908e-52097f074423",
   "metadata": {},
   "outputs": [],
   "source": [
    "with open('synthetic_test_data_src.txt', 'w') as f:\n",
    "    for line in test_df['src'].values.tolist():\n",
    "        f.write(f\"{line}\\n\")"
   ]
  },
  {
   "cell_type": "code",
   "execution_count": null,
   "id": "0c66aac9-1d0f-481b-8f2d-24aeaaaab925",
   "metadata": {},
   "outputs": [],
   "source": []
  }
 ],
 "metadata": {
  "kernelspec": {
   "display_name": "Python 3 (ipykernel)",
   "language": "python",
   "name": "python3"
  },
  "language_info": {
   "codemirror_mode": {
    "name": "ipython",
    "version": 3
   },
   "file_extension": ".py",
   "mimetype": "text/x-python",
   "name": "python",
   "nbconvert_exporter": "python",
   "pygments_lexer": "ipython3",
   "version": "3.10.6"
  }
 },
 "nbformat": 4,
 "nbformat_minor": 5
}
